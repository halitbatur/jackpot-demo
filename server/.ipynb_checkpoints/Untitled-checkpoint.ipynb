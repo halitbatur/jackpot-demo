{
 "cells": [
  {
   "cell_type": "code",
   "execution_count": 7,
   "id": "a4baddad-d3a5-44e7-a25c-c2bd28b643ae",
   "metadata": {},
   "outputs": [],
   "source": [
    "%run MAIN.ipynb"
   ]
  },
  {
   "cell_type": "code",
   "execution_count": 10,
   "id": "05c8efde-e8cf-46b6-83ba-249699e49af6",
   "metadata": {},
   "outputs": [],
   "source": [
    "import requests\n",
    "import time\n",
    "\n",
    "# Test Parameters\n",
    "TEST_PARAMS = {\n",
    "    \"BASE_URL\": \"http://localhost:8000\",\n",
    "    \"TOTAL_USERS\": 10,\n",
    "    \"TOTAL_SPINS\": 100,\n",
    "    \"STARTING_POINTS\": 5000,\n",
    "    \"SPIN_COST\": 50,\n",
    "    \"MAX_WORKERS\": 5\n",
    "}\n",
    "\n",
    "def spin_for_user(user_id, total_spins, base_url):\n",
    "    # Initialize user points\n",
    "    requests.get(f\"{base_url}/points/{user_id}\")\n",
    "\n",
    "    max_points = 0\n",
    "    total_payout = 0  # Track total payout for this user\n",
    "\n",
    "    for i in range(total_spins):\n",
    "        # Spin the reels for each user\n",
    "        response = spin_jackpot(user_id).dict()\n",
    "        points_remaining = response[\"points_remaining\"]\n",
    "        payout = response[\"payout\"]\n",
    "        total_payout += payout  # Add to total payout\n",
    "\n",
    "        # Update max points if current points are higher\n",
    "        if points_remaining > max_points:\n",
    "            max_points = points_remaining\n",
    "\n",
    "        # Print each spin result with payout information\n",
    "        print(f\"User: {user_id}, Spin {i+1}, Payout: {payout}, Points remaining: {points_remaining}\")\n",
    "\n",
    "        # Small delay to prevent overwhelming the server\n",
    "        time.sleep(0.1)\n",
    "\n",
    "    # Calculate average payout for this user\n",
    "    avg_payout = total_payout / total_spins\n",
    "\n",
    "    # Get final points for each user\n",
    "    final_points_response = requests.get(f\"{base_url}/points/{user_id}\").json()\n",
    "    final_points = final_points_response[\"points\"]\n",
    "\n",
    "    return final_points, max_points, avg_payout, total_payout"
   ]
  },
  {
   "cell_type": "code",
   "execution_count": 13,
   "id": "b1a70d76-a523-4872-8e4b-bdc71a6b39ce",
   "metadata": {},
   "outputs": [],
   "source": [
    "response = spin_jackpot('asdf')"
   ]
  },
  {
   "cell_type": "code",
   "execution_count": 14,
   "id": "49a0f06a-eb17-42e3-afb9-0d99fd1a4ee3",
   "metadata": {},
   "outputs": [
    {
     "data": {
      "text/plain": [
       "SpinResponse(reels=['Vesty', 'Vesty', 'Vesty', 'Brolyz', 'Vestra Coin'], payout=50, points_remaining=5000, streak_bonus=None)"
      ]
     },
     "execution_count": 14,
     "metadata": {},
     "output_type": "execute_result"
    }
   ],
   "source": [
    "response"
   ]
  },
  {
   "cell_type": "code",
   "execution_count": 11,
   "id": "348d61e1-debb-489e-aa69-b5f7ffc2a80d",
   "metadata": {},
   "outputs": [
    {
     "ename": "TypeError",
     "evalue": "'SpinResponse' object is not subscriptable",
     "output_type": "error",
     "traceback": [
      "\u001b[0;31m---------------------------------------------------------------------------\u001b[0m",
      "\u001b[0;31mTypeError\u001b[0m                                 Traceback (most recent call last)",
      "Cell \u001b[0;32mIn[11], line 1\u001b[0m\n\u001b[0;32m----> 1\u001b[0m \u001b[43mspin_for_user\u001b[49m\u001b[43m(\u001b[49m\u001b[38;5;241;43m0\u001b[39;49m\u001b[43m,\u001b[49m\u001b[43mTEST_PARAMS\u001b[49m\u001b[43m[\u001b[49m\u001b[38;5;124;43m\"\u001b[39;49m\u001b[38;5;124;43mTOTAL_SPINS\u001b[39;49m\u001b[38;5;124;43m\"\u001b[39;49m\u001b[43m]\u001b[49m\u001b[43m,\u001b[49m\u001b[43m \u001b[49m\u001b[43mTEST_PARAMS\u001b[49m\u001b[43m[\u001b[49m\u001b[38;5;124;43m\"\u001b[39;49m\u001b[38;5;124;43mBASE_URL\u001b[39;49m\u001b[38;5;124;43m\"\u001b[39;49m\u001b[43m]\u001b[49m\u001b[43m)\u001b[49m\n",
      "Cell \u001b[0;32mIn[10], line 24\u001b[0m, in \u001b[0;36mspin_for_user\u001b[0;34m(user_id, total_spins, base_url)\u001b[0m\n\u001b[1;32m     21\u001b[0m \u001b[38;5;28;01mfor\u001b[39;00m i \u001b[38;5;129;01min\u001b[39;00m \u001b[38;5;28mrange\u001b[39m(total_spins):\n\u001b[1;32m     22\u001b[0m     \u001b[38;5;66;03m# Spin the reels for each user\u001b[39;00m\n\u001b[1;32m     23\u001b[0m     response \u001b[38;5;241m=\u001b[39m spin_jackpot(user_id)\n\u001b[0;32m---> 24\u001b[0m     points_remaining \u001b[38;5;241m=\u001b[39m \u001b[43mresponse\u001b[49m\u001b[43m[\u001b[49m\u001b[38;5;124;43m\"\u001b[39;49m\u001b[38;5;124;43mpoints_remaining\u001b[39;49m\u001b[38;5;124;43m\"\u001b[39;49m\u001b[43m]\u001b[49m\n\u001b[1;32m     25\u001b[0m     payout \u001b[38;5;241m=\u001b[39m response[\u001b[38;5;124m\"\u001b[39m\u001b[38;5;124mpayout\u001b[39m\u001b[38;5;124m\"\u001b[39m]\n\u001b[1;32m     26\u001b[0m     total_payout \u001b[38;5;241m+\u001b[39m\u001b[38;5;241m=\u001b[39m payout  \u001b[38;5;66;03m# Add to total payout\u001b[39;00m\n",
      "\u001b[0;31mTypeError\u001b[0m: 'SpinResponse' object is not subscriptable"
     ]
    }
   ],
   "source": [
    "spin_for_user(0,TEST_PARAMS[\"TOTAL_SPINS\"], TEST_PARAMS[\"BASE_URL\"])"
   ]
  },
  {
   "cell_type": "code",
   "execution_count": null,
   "id": "f0808e84-a890-4a52-92e4-5f0cce6bbdbb",
   "metadata": {},
   "outputs": [],
   "source": []
  }
 ],
 "metadata": {
  "kernelspec": {
   "display_name": "Python 3 (ipykernel)",
   "language": "python",
   "name": "python3"
  },
  "language_info": {
   "codemirror_mode": {
    "name": "ipython",
    "version": 3
   },
   "file_extension": ".py",
   "mimetype": "text/x-python",
   "name": "python",
   "nbconvert_exporter": "python",
   "pygments_lexer": "ipython3",
   "version": "3.11.5"
  }
 },
 "nbformat": 4,
 "nbformat_minor": 5
}
